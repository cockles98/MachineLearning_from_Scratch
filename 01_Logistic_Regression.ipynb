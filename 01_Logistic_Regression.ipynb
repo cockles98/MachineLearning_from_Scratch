{
 "cells": [
  {
   "cell_type": "code",
   "execution_count": 1,
   "id": "531d862c-fb82-4532-83b6-f3f159cb9b89",
   "metadata": {
    "tags": []
   },
   "outputs": [],
   "source": [
    "import numpy as np\n",
    "import pandas as pd\n",
    "import matplotlib.pyplot as plt\n",
    "from collections import OrderedDict"
   ]
  },
  {
   "cell_type": "markdown",
   "id": "77ebaec2-76d0-409f-b89a-ba35626e2ed0",
   "metadata": {},
   "source": [
    "# Your Data"
   ]
  },
  {
   "cell_type": "markdown",
   "id": "ddba927f-8d14-4e6d-8245-b8e49cfdfefe",
   "metadata": {
    "tags": []
   },
   "source": [
    "Given a certain amount_spent by the customer, we decide whether or not to give a discount. Let's set 1 if the customer gets the discount and 0 if he doesn't."
   ]
  },
  {
   "cell_type": "code",
   "execution_count": 2,
   "id": "3fe38b25-993a-412b-8018-c302239a9606",
   "metadata": {
    "tags": []
   },
   "outputs": [],
   "source": [
    "data = OrderedDict(\n",
    "        amount_spent =  [50,  10, 20, 5,  95,  70,  100,  200, 0],\n",
    "        send_discount = [0,   1,  1,  1,  0,   0,   0,    0,   1]\n",
    "    )     "
   ]
  },
  {
   "cell_type": "code",
   "execution_count": 3,
   "id": "742cde86-4ca7-411e-8771-ff2b243bfda8",
   "metadata": {
    "tags": []
   },
   "outputs": [
    {
     "data": {
      "text/html": [
       "<div>\n",
       "<style scoped>\n",
       "    .dataframe tbody tr th:only-of-type {\n",
       "        vertical-align: middle;\n",
       "    }\n",
       "\n",
       "    .dataframe tbody tr th {\n",
       "        vertical-align: top;\n",
       "    }\n",
       "\n",
       "    .dataframe thead th {\n",
       "        text-align: right;\n",
       "    }\n",
       "</style>\n",
       "<table border=\"1\" class=\"dataframe\">\n",
       "  <thead>\n",
       "    <tr style=\"text-align: right;\">\n",
       "      <th></th>\n",
       "      <th>amount_spent</th>\n",
       "      <th>send_discount</th>\n",
       "    </tr>\n",
       "  </thead>\n",
       "  <tbody>\n",
       "    <tr>\n",
       "      <th>0</th>\n",
       "      <td>50</td>\n",
       "      <td>0</td>\n",
       "    </tr>\n",
       "    <tr>\n",
       "      <th>1</th>\n",
       "      <td>10</td>\n",
       "      <td>1</td>\n",
       "    </tr>\n",
       "    <tr>\n",
       "      <th>2</th>\n",
       "      <td>20</td>\n",
       "      <td>1</td>\n",
       "    </tr>\n",
       "    <tr>\n",
       "      <th>3</th>\n",
       "      <td>5</td>\n",
       "      <td>1</td>\n",
       "    </tr>\n",
       "    <tr>\n",
       "      <th>4</th>\n",
       "      <td>95</td>\n",
       "      <td>0</td>\n",
       "    </tr>\n",
       "    <tr>\n",
       "      <th>5</th>\n",
       "      <td>70</td>\n",
       "      <td>0</td>\n",
       "    </tr>\n",
       "    <tr>\n",
       "      <th>6</th>\n",
       "      <td>100</td>\n",
       "      <td>0</td>\n",
       "    </tr>\n",
       "    <tr>\n",
       "      <th>7</th>\n",
       "      <td>200</td>\n",
       "      <td>0</td>\n",
       "    </tr>\n",
       "    <tr>\n",
       "      <th>8</th>\n",
       "      <td>0</td>\n",
       "      <td>1</td>\n",
       "    </tr>\n",
       "  </tbody>\n",
       "</table>\n",
       "</div>"
      ],
      "text/plain": [
       "   amount_spent  send_discount\n",
       "0            50              0\n",
       "1            10              1\n",
       "2            20              1\n",
       "3             5              1\n",
       "4            95              0\n",
       "5            70              0\n",
       "6           100              0\n",
       "7           200              0\n",
       "8             0              1"
      ]
     },
     "execution_count": 3,
     "metadata": {},
     "output_type": "execute_result"
    }
   ],
   "source": [
    "df = pd.DataFrame.from_dict(data)\n",
    "df"
   ]
  },
  {
   "cell_type": "code",
   "execution_count": 4,
   "id": "5c9f0cc7-2f2f-4c99-8292-d10365c2cdb5",
   "metadata": {
    "tags": []
   },
   "outputs": [
    {
     "data": {
      "image/png": "[encoded data removed]",
      "text/plain": [
       "<Figure size 640x480 with 1 Axes>"
      ]
     },
     "metadata": {},
     "output_type": "display_data"
    }
   ],
   "source": [
    "df.plot.scatter(x='amount_spent', y='send_discount', s=50, c=\"blue\");"
   ]
  },
  {
   "cell_type": "markdown",
   "id": "92b1358d-f6e3-4164-8888-ceeda7d4aa3a",
   "metadata": {},
   "source": [
    "# Logistic Regression"
   ]
  },
  {
   "cell_type": "code",
   "execution_count": 5,
   "id": "843b5189-f091-472b-bfb0-6375beecb690",
   "metadata": {
    "tags": []
   },
   "outputs": [],
   "source": [
    "X = df['amount_spent'].astype('float').values\n",
    "y = df['send_discount'].astype('float').values"
   ]
  },
  {
   "cell_type": "code",
   "execution_count": 24,
   "id": "cdd99ef7-a45d-4322-9560-386560d6ac03",
   "metadata": {
    "tags": []
   },
   "outputs": [],
   "source": [
    "class LogisticRegressor:\n",
    "    def sigmoid(z):\n",
    "        return 1/(1+np.exp(-z))\n",
    "  \n",
    "    def _add_intercept(self, X):\n",
    "        intercept = np.ones((X.shape[0], 1))\n",
    "        if X.ndim == 1:\n",
    "            X = X.reshape(-1, 1)  # Ensure X has 2 dimensions\n",
    "        return np.concatenate((intercept, X), axis=1)\n",
    "\n",
    "    def predict_probs(self, X):\n",
    "        X = self._add_intercept(X)\n",
    "        return sigmoid(np.dot(X, self.W))\n",
    "  \n",
    "    def predict(self, X):\n",
    "        return self.predict_probs(X).round()\n",
    "\n",
    "    def fit(self, X, y, n_iter=100000, lr=0.01):\n",
    "        X = self._add_intercept(X)\n",
    "        self.W = np.zeros(X.shape[1])\n",
    "        for i in range(n_iter):\n",
    "            z = np.dot(X, self.W)\n",
    "            h = sigmoid(z)\n",
    "            gradient = np.dot(X.T, (h - y)) / y.size\n",
    "            self.W -= lr * gradient\n",
    "        return self"
   ]
  },
  {
   "cell_type": "code",
   "execution_count": 25,
   "id": "bae38996-24d0-4a8e-b501-e2a5431caa8d",
   "metadata": {
    "tags": []
   },
   "outputs": [],
   "source": [
    "regressor = LogisticRegressor().fit(X, y)"
   ]
  },
  {
   "cell_type": "markdown",
   "id": "72449153-5004-454e-875b-da23d31fc264",
   "metadata": {},
   "source": [
    "Using the regressor to decide who should receive discount."
   ]
  },
  {
   "cell_type": "code",
   "execution_count": 26,
   "id": "f234e379-8ced-4581-af3d-7998e90c8412",
   "metadata": {
    "tags": []
   },
   "outputs": [
    {
     "data": {
      "text/plain": [
       "array([1., 0.])"
      ]
     },
     "execution_count": 26,
     "metadata": {},
     "output_type": "execute_result"
    }
   ],
   "source": [
    "X_test = np.array([10, 250]) # two amount_spent values to test \n",
    "X_test = X_test.reshape(X_test.shape[0], 1)\n",
    "y_test = regressor.predict(X_test)\n",
    "y_test"
   ]
  }
 ],
 "metadata": {
  "kernelspec": {
   "display_name": "Python 3 (ipykernel)",
   "language": "python",
   "name": "python3"
  },
  "language_info": {
   "codemirror_mode": {
    "name": "ipython",
    "version": 3
   },
   "file_extension": ".py",
   "mimetype": "text/x-python",
   "name": "python",
   "nbconvert_exporter": "python",
   "pygments_lexer": "ipython3",
   "version": "3.11.5"
  }
 },
 "nbformat": 4,
 "nbformat_minor": 5
}
