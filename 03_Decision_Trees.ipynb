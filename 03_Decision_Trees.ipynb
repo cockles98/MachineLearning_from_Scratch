{
 "cells": [
  {
   "cell_type": "code",
   "execution_count": 1,
   "id": "0f2c93b0-ae27-45f0-805b-17aac0866ce8",
   "metadata": {
    "tags": []
   },
   "outputs": [],
   "source": [
    "import numpy as np\n",
    "import pandas as pd\n",
    "from math import sqrt\n",
    "from sklearn import metrics\n",
    "from sklearn.metrics import mean_squared_error"
   ]
  },
  {
   "cell_type": "markdown",
   "id": "67bbe72a-3a0b-44ad-9162-77c96eed522b",
   "metadata": {},
   "source": [
    "# Load a kaggle data from example"
   ]
  },
  {
   "cell_type": "markdown",
   "id": "dae48047-8867-4758-951a-b2fa5d7026cd",
   "metadata": {
    "tags": []
   },
   "source": [
    "Data [House Prices: Advanced Regression Techniques](https://www.kaggle.com/c/house-prices-advanced-regression-techniques)"
   ]
  },
  {
   "cell_type": "code",
   "execution_count": 2,
   "id": "949285dd-2799-4060-bd3d-9e61c1d5f7dc",
   "metadata": {
    "tags": []
   },
   "outputs": [],
   "source": [
    "import requests\n",
    "\n",
    "url1 = \"https://raw.githubusercontent.com/cockles98/MachineLearning_from_Scratch/master/data/house_prices/train.csv\"\n",
    "url2 = \"https://raw.githubusercontent.com/cockles98/MachineLearning_from_Scratch/master/data/house_prices/test.csv\"\n",
    "response1 = requests.get(url1)\n",
    "response2 = requests.get(url2)\n",
    "\n",
    "with open(\"house_prices_train.csv\", \"wb\") as file:\n",
    "    file.write(response1.content)\n",
    "    \n",
    "with open(\"house_prices_test.csv\", \"wb\") as file:\n",
    "    file.write(response2.content)"
   ]
  },
  {
   "cell_type": "code",
   "execution_count": 3,
   "id": "cb4ce8dd-8481-4a9c-af77-f723c6f46226",
   "metadata": {
    "tags": []
   },
   "outputs": [],
   "source": [
    "df_train = pd.read_csv('house_prices_train.csv')\n",
    "df_test = pd.read_csv('house_prices_test.csv')"
   ]
  },
  {
   "cell_type": "markdown",
   "id": "bc45b472-f878-485f-b29a-71853c54844e",
   "metadata": {},
   "source": [
    "# Decision Tree"
   ]
  },
  {
   "cell_type": "code",
   "execution_count": 4,
   "id": "8c47e8e5-40e9-42e9-b578-877f1ddd0fb8",
   "metadata": {
    "tags": []
   },
   "outputs": [],
   "source": [
    "X = df_train[['OverallQual', 'GrLivArea', 'GarageCars']]\n",
    "y = df_train['SalePrice']"
   ]
  },
  {
   "cell_type": "code",
   "execution_count": 5,
   "id": "b53f0672-2ae4-415c-aeb2-279061be7beb",
   "metadata": {
    "tags": []
   },
   "outputs": [],
   "source": [
    "# Cost funtion\n",
    "def rmse(h, y):\n",
    "    # Root mean squared error\n",
    "    return sqrt(mean_squared_error(h, y))"
   ]
  },
  {
   "cell_type": "code",
   "execution_count": 6,
   "id": "a8c5fb9f-d8c0-4098-be9f-3976f302883b",
   "metadata": {
    "tags": []
   },
   "outputs": [],
   "source": [
    "class Node:\n",
    "\n",
    "    def __init__(self, x, y, idxs, min_leaf=5):\n",
    "        self.x = x \n",
    "        self.y = y\n",
    "        self.idxs = idxs \n",
    "        self.min_leaf = min_leaf\n",
    "        self.row_count = len(idxs)\n",
    "        self.col_count = x.shape[1]\n",
    "        self.val = np.mean(y[idxs])\n",
    "        self.score = float('inf')\n",
    "        self.find_varsplit()\n",
    "        \n",
    "    def find_varsplit(self):\n",
    "        for c in range(self.col_count): self.find_better_split(c)\n",
    "        if self.is_leaf: return\n",
    "        x = self.split_col\n",
    "        lhs = np.nonzero(x <= self.split)[0]\n",
    "        rhs = np.nonzero(x > self.split)[0]\n",
    "        self.lhs = Node(self.x, self.y, self.idxs[lhs], self.min_leaf)\n",
    "        self.rhs = Node(self.x, self.y, self.idxs[rhs], self.min_leaf)\n",
    "        \n",
    "    def find_better_split(self, var_idx):\n",
    "      \n",
    "        x = self.x.values[self.idxs, var_idx]\n",
    "\n",
    "        for r in range(self.row_count):\n",
    "            lhs = x <= x[r]\n",
    "            rhs = x > x[r]\n",
    "            if rhs.sum() < self.min_leaf or lhs.sum() < self.min_leaf: continue\n",
    "\n",
    "            curr_score = self.find_score(lhs, rhs)\n",
    "            if curr_score < self.score: \n",
    "                self.var_idx = var_idx\n",
    "                self.score = curr_score\n",
    "                self.split = x[r]\n",
    "                \n",
    "    def find_score(self, lhs, rhs):\n",
    "        y = self.y[self.idxs]\n",
    "        lhs_std = y[lhs].std()\n",
    "        rhs_std = y[rhs].std()\n",
    "        return lhs_std * lhs.sum() + rhs_std * rhs.sum()\n",
    "                \n",
    "    @property\n",
    "    def split_col(self): return self.x.values[self.idxs,self.var_idx]\n",
    "                \n",
    "    @property\n",
    "    def is_leaf(self): return self.score == float('inf')                \n",
    "\n",
    "    def predict(self, x):\n",
    "        return np.array([self.predict_row(xi) for xi in x])\n",
    "\n",
    "    def predict_row(self, xi):\n",
    "        if self.is_leaf: return self.val\n",
    "        node = self.lhs if xi[self.var_idx] <= self.split else self.rhs\n",
    "        return node.predict_row(xi)"
   ]
  },
  {
   "cell_type": "code",
   "execution_count": 7,
   "id": "20e7cf2a-c44f-44c2-b8bf-d833f7a73f6c",
   "metadata": {
    "tags": []
   },
   "outputs": [],
   "source": [
    "class DecisionTreeRegressor:\n",
    "  \n",
    "    def fit(self, X, y, min_leaf = 5):\n",
    "        self.dtree = Node(X, y, np.array(np.arange(len(y))), min_leaf)\n",
    "        return self\n",
    "  \n",
    "    def predict(self, X):\n",
    "        return self.dtree.predict(X.values)"
   ]
  },
  {
   "cell_type": "code",
   "execution_count": 8,
   "id": "be5fc45e-86e0-4193-9422-b21650e71fc8",
   "metadata": {
    "tags": []
   },
   "outputs": [],
   "source": [
    "regressor = DecisionTreeRegressor().fit(X, y)\n",
    "preds = regressor.predict(X)"
   ]
  },
  {
   "cell_type": "code",
   "execution_count": 9,
   "id": "48533391-40d8-41e1-9799-6df74764633b",
   "metadata": {
    "tags": []
   },
   "outputs": [
    {
     "data": {
      "text/plain": [
       "0.8504381072711565"
      ]
     },
     "execution_count": 9,
     "metadata": {},
     "output_type": "execute_result"
    }
   ],
   "source": [
    "# R2 score\n",
    "metrics.r2_score(y, preds)"
   ]
  },
  {
   "cell_type": "code",
   "execution_count": 10,
   "id": "b16797be-8628-44a5-b4d7-8f3c131d6371",
   "metadata": {
    "tags": []
   },
   "outputs": [
    {
     "data": {
      "text/plain": [
       "30712.460628635836"
      ]
     },
     "execution_count": 10,
     "metadata": {},
     "output_type": "execute_result"
    }
   ],
   "source": [
    "# Root MSE\n",
    "rmse(preds, y)"
   ]
  },
  {
   "cell_type": "code",
   "execution_count": 11,
   "id": "3feb9b65-4a7f-4236-9aec-52e962a4d5ee",
   "metadata": {
    "tags": []
   },
   "outputs": [
    {
     "data": {
      "text/plain": [
       "Id                421.321334\n",
       "MSSubClass         42.746880\n",
       "MSZoning                 NaN\n",
       "LotFrontage        22.376841\n",
       "LotArea          4955.517327\n",
       "                    ...     \n",
       "MiscVal           630.806978\n",
       "MoSold              2.722432\n",
       "YrSold              1.301740\n",
       "SaleType                 NaN\n",
       "SaleCondition            NaN\n",
       "Length: 80, dtype: float64"
      ]
     },
     "execution_count": 11,
     "metadata": {},
     "output_type": "execute_result"
    }
   ],
   "source": [
    "# Standard deviation of the test dataframe\n",
    "std = df_test.apply(pd.to_numeric, errors='coerce').std() \n",
    "std"
   ]
  },
  {
   "cell_type": "markdown",
   "id": "b001195e-8ab1-41c4-8b18-2ec0dd454814",
   "metadata": {
    "tags": []
   },
   "source": [
    "# Using scikit-learn "
   ]
  },
  {
   "cell_type": "code",
   "execution_count": 12,
   "id": "bcc0ea09-66d2-4eee-9200-060ece3d1495",
   "metadata": {
    "tags": []
   },
   "outputs": [
    {
     "data": {
      "text/html": [
       "<style>#sk-container-id-1 {color: black;}#sk-container-id-1 pre{padding: 0;}#sk-container-id-1 div.sk-toggleable {background-color: white;}#sk-container-id-1 label.sk-toggleable__label {cursor: pointer;display: block;width: 100%;margin-bottom: 0;padding: 0.3em;box-sizing: border-box;text-align: center;}#sk-container-id-1 label.sk-toggleable__label-arrow:before {content: \"▸\";float: left;margin-right: 0.25em;color: #696969;}#sk-container-id-1 label.sk-toggleable__label-arrow:hover:before {color: black;}#sk-container-id-1 div.sk-estimator:hover label.sk-toggleable__label-arrow:before {color: black;}#sk-container-id-1 div.sk-toggleable__content {max-height: 0;max-width: 0;overflow: hidden;text-align: left;background-color: #f0f8ff;}#sk-container-id-1 div.sk-toggleable__content pre {margin: 0.2em;color: black;border-radius: 0.25em;background-color: #f0f8ff;}#sk-container-id-1 input.sk-toggleable__control:checked~div.sk-toggleable__content {max-height: 200px;max-width: 100%;overflow: auto;}#sk-container-id-1 input.sk-toggleable__control:checked~label.sk-toggleable__label-arrow:before {content: \"▾\";}#sk-container-id-1 div.sk-estimator input.sk-toggleable__control:checked~label.sk-toggleable__label {background-color: #d4ebff;}#sk-container-id-1 div.sk-label input.sk-toggleable__control:checked~label.sk-toggleable__label {background-color: #d4ebff;}#sk-container-id-1 input.sk-hidden--visually {border: 0;clip: rect(1px 1px 1px 1px);clip: rect(1px, 1px, 1px, 1px);height: 1px;margin: -1px;overflow: hidden;padding: 0;position: absolute;width: 1px;}#sk-container-id-1 div.sk-estimator {font-family: monospace;background-color: #f0f8ff;border: 1px dotted black;border-radius: 0.25em;box-sizing: border-box;margin-bottom: 0.5em;}#sk-container-id-1 div.sk-estimator:hover {background-color: #d4ebff;}#sk-container-id-1 div.sk-parallel-item::after {content: \"\";width: 100%;border-bottom: 1px solid gray;flex-grow: 1;}#sk-container-id-1 div.sk-label:hover label.sk-toggleable__label {background-color: #d4ebff;}#sk-container-id-1 div.sk-serial::before {content: \"\";position: absolute;border-left: 1px solid gray;box-sizing: border-box;top: 0;bottom: 0;left: 50%;z-index: 0;}#sk-container-id-1 div.sk-serial {display: flex;flex-direction: column;align-items: center;background-color: white;padding-right: 0.2em;padding-left: 0.2em;position: relative;}#sk-container-id-1 div.sk-item {position: relative;z-index: 1;}#sk-container-id-1 div.sk-parallel {display: flex;align-items: stretch;justify-content: center;background-color: white;position: relative;}#sk-container-id-1 div.sk-item::before, #sk-container-id-1 div.sk-parallel-item::before {content: \"\";position: absolute;border-left: 1px solid gray;box-sizing: border-box;top: 0;bottom: 0;left: 50%;z-index: -1;}#sk-container-id-1 div.sk-parallel-item {display: flex;flex-direction: column;z-index: 1;position: relative;background-color: white;}#sk-container-id-1 div.sk-parallel-item:first-child::after {align-self: flex-end;width: 50%;}#sk-container-id-1 div.sk-parallel-item:last-child::after {align-self: flex-start;width: 50%;}#sk-container-id-1 div.sk-parallel-item:only-child::after {width: 0;}#sk-container-id-1 div.sk-dashed-wrapped {border: 1px dashed gray;margin: 0 0.4em 0.5em 0.4em;box-sizing: border-box;padding-bottom: 0.4em;background-color: white;}#sk-container-id-1 div.sk-label label {font-family: monospace;font-weight: bold;display: inline-block;line-height: 1.2em;}#sk-container-id-1 div.sk-label-container {text-align: center;}#sk-container-id-1 div.sk-container {/* jupyter's `normalize.less` sets `[hidden] { display: none; }` but bootstrap.min.css set `[hidden] { display: none !important; }` so we also need the `!important` here to be able to override the default hidden behavior on the sphinx rendered scikit-learn.org. See: https://github.com/scikit-learn/scikit-learn/issues/21755 */display: inline-block !important;position: relative;}#sk-container-id-1 div.sk-text-repr-fallback {display: none;}</style><div id=\"sk-container-id-1\" class=\"sk-top-container\"><div class=\"sk-text-repr-fallback\"><pre>RandomForestRegressor(bootstrap=False, max_depth=2, n_estimators=1,\n",
       "                      random_state=42)</pre><b>In a Jupyter environment, please rerun this cell to show the HTML representation or trust the notebook. <br />On GitHub, the HTML representation is unable to render, please try loading this page with nbviewer.org.</b></div><div class=\"sk-container\" hidden><div class=\"sk-item\"><div class=\"sk-estimator sk-toggleable\"><input class=\"sk-toggleable__control sk-hidden--visually\" id=\"sk-estimator-id-1\" type=\"checkbox\" checked><label for=\"sk-estimator-id-1\" class=\"sk-toggleable__label sk-toggleable__label-arrow\">RandomForestRegressor</label><div class=\"sk-toggleable__content\"><pre>RandomForestRegressor(bootstrap=False, max_depth=2, n_estimators=1,\n",
       "                      random_state=42)</pre></div></div></div></div></div>"
      ],
      "text/plain": [
       "RandomForestRegressor(bootstrap=False, max_depth=2, n_estimators=1,\n",
       "                      random_state=42)"
      ]
     },
     "execution_count": 12,
     "metadata": {},
     "output_type": "execute_result"
    }
   ],
   "source": [
    "from sklearn.ensemble import RandomForestRegressor\n",
    "\n",
    "reg = RandomForestRegressor(n_estimators=1, max_depth=2, bootstrap=False, random_state=42)\n",
    "reg.fit(X, y)"
   ]
  },
  {
   "cell_type": "code",
   "execution_count": 13,
   "id": "8af11bc3-ca09-40f4-8e8a-ea122df687ff",
   "metadata": {
    "tags": []
   },
   "outputs": [
    {
     "data": {
      "text/plain": [
       "0.6336246655552089"
      ]
     },
     "execution_count": 13,
     "metadata": {},
     "output_type": "execute_result"
    }
   ],
   "source": [
    "preds = reg.predict(X)\n",
    "metrics.r2_score(y, preds)"
   ]
  },
  {
   "cell_type": "code",
   "execution_count": 14,
   "id": "9364a337-9253-4cac-ae6f-1d0256906809",
   "metadata": {
    "tags": []
   },
   "outputs": [
    {
     "data": {
      "text/plain": [
       "0.6336246655552089"
      ]
     },
     "execution_count": 14,
     "metadata": {},
     "output_type": "execute_result"
    }
   ],
   "source": [
    "# R2 score\n",
    "metrics.r2_score(y, preds)"
   ]
  },
  {
   "cell_type": "code",
   "execution_count": 15,
   "id": "fb469173-5234-4ea9-a41b-ceee6e5d8ebe",
   "metadata": {
    "tags": []
   },
   "outputs": [
    {
     "data": {
      "text/plain": [
       "48069.23940764968"
      ]
     },
     "execution_count": 15,
     "metadata": {},
     "output_type": "execute_result"
    }
   ],
   "source": [
    "# Root MSE\n",
    "rmse(preds, y)"
   ]
  }
 ],
 "metadata": {
  "kernelspec": {
   "display_name": "Python 3 (ipykernel)",
   "language": "python",
   "name": "python3"
  },
  "language_info": {
   "codemirror_mode": {
    "name": "ipython",
    "version": 3
   },
   "file_extension": ".py",
   "mimetype": "text/x-python",
   "name": "python",
   "nbconvert_exporter": "python",
   "pygments_lexer": "ipython3",
   "version": "3.11.5"
  }
 },
 "nbformat": 4,
 "nbformat_minor": 5
}
